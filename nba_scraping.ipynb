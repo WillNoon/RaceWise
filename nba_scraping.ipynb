{
 "cells": [
  {
   "cell_type": "code",
   "execution_count": 41,
   "id": "0bd995e4-dbac-4f09-8808-90e34ac6158c",
   "metadata": {},
   "outputs": [],
   "source": [
    "import requests\n",
    "from bs4 import BeautifulSoup\n",
    "import pandas as pd\n",
    "from io import StringIO\n",
    "import io\n",
    "import time\n",
    "import numpy as np"
   ]
  },
  {
   "cell_type": "code",
   "execution_count": null,
   "id": "0954985c-88cd-4a3d-972a-02e9e1f7d76c",
   "metadata": {},
   "outputs": [],
   "source": []
  },
  {
   "cell_type": "code",
   "execution_count": 3,
   "id": "3408127a-493b-4765-802e-e28e7e684144",
   "metadata": {},
   "outputs": [],
   "source": [
    "years = [2023, 2024, 2025]\n",
    "months  = [\"october\", \"november\", \"december\", \"january\", \"february\", \"march\", \"april\"]\n",
    "teams = ['ATL', 'BOS', 'BRK', 'CHO', 'CHI', 'CLE', 'NYK', 'IND', 'MIL', 'DET', 'MIA', 'ORL', 'PHI', 'TOR', 'WAS',\n",
    "         'OKC', 'MEM', 'DEN', 'LAL', 'HOU', 'LAC', 'MIN', 'DAL', 'SAC', 'GSW', 'PHO', 'SAS', 'POR', 'UTA', 'NOP']\n",
    "team_name_to_code = {\n",
    "    \"Atlanta Hawks\": \"ATL\",\n",
    "    \"Boston Celtics\": \"BOS\",\n",
    "    \"Brooklyn Nets\": \"BRK\",\n",
    "    \"Charlotte Hornets\": \"CHO\",\n",
    "    \"Chicago Bulls\": \"CHI\",\n",
    "    \"Cleveland Cavaliers\": \"CLE\",\n",
    "    \"New York Knicks\": \"NYK\",\n",
    "    \"Indiana Pacers\": \"IND\",\n",
    "    \"Milwaukee Bucks\": \"MIL\",\n",
    "    \"Detroit Pistons\": \"DET\",\n",
    "    \"Miami Heat\": \"MIA\",\n",
    "    \"Orlando Magic\": \"ORL\",\n",
    "    \"Philadelphia 76ers\": \"PHI\",\n",
    "    \"Toronto Raptors\": \"TOR\",\n",
    "    \"Washington Wizards\": \"WAS\",\n",
    "    \"Oklahoma City Thunder\": \"OKC\",\n",
    "    \"Memphis Grizzlies\": \"MEM\",\n",
    "    \"Denver Nuggets\": \"DEN\",\n",
    "    \"Los Angeles Lakers\": \"LAL\",\n",
    "    \"Houston Rockets\": \"HOU\",\n",
    "    \"Los Angeles Clippers\": \"LAC\",\n",
    "    \"Minnesota Timberwolves\": \"MIN\",\n",
    "    \"Dallas Mavericks\": \"DAL\",\n",
    "    \"Sacramento Kings\": \"SAC\",\n",
    "    \"Golden State Warriors\": \"GSW\",\n",
    "    \"Phoenix Suns\": \"PHO\",\n",
    "    \"San Antonio Spurs\": \"SAS\",\n",
    "    \"Portland Trail Blazers\": \"POR\",\n",
    "    \"Utah Jazz\": \"UTA\",\n",
    "    \"New Orleans Pelicans\": \"NOP\"\n",
    "}\n",
    "all_games = []"
   ]
  },
  {
   "cell_type": "code",
   "execution_count": null,
   "id": "cae08125-db97-449d-bc0a-b9ef9dd9694d",
   "metadata": {},
   "outputs": [],
   "source": [
    "def scrape_team_games(team, year):\n",
    "    \"\"\"\n",
    "    Scrape all games for a given team from Basketball-Reference.\n",
    "    \"\"\"\n",
    "    url = f\"https://www.basketball-reference.com/teams/{team}/{year}_games.html\"\n",
    "    response = requests.get(url)\n",
    "    \n",
    "    if response.status_code != 200:\n",
    "        print(f\"Failed to fetch data for {team}\")\n",
    "        return None\n",
    "    \n",
    "    soup = BeautifulSoup(response.text, \"html.parser\")\n",
    "    \n",
    "\n",
    "    table = soup.find(\"table\", {\"id\": \"games\"})\n",
    "    if table is None:\n",
    "        print(f\"No table found for {team}\")\n",
    "        return None\n",
    "    \n",
    "\n",
    "    table_html = str(table)\n",
    "    df = pd.read_html(io.StringIO(table_html))[0] \n",
    "    df = df.dropna(axis=1, how=\"all\")\n",
    "    \n",
    "\n",
    "    \n",
    "\n",
    "    if df.iloc[0, 0] == \"Date\":\n",
    "        df = df[1:]\n",
    "\n",
    "    \n",
    "\n",
    "    rename_dict = {\n",
    "        \"Date\": \"date\",\n",
    "        \"Start (ET)\": \"start_time\",\n",
    "        \"Opponent\": \"opponent\",\n",
    "        \"Unnamed: 5\": \"home_away\", \n",
    "        \"Tm\": \"points_scored\", \n",
    "        \"Opp\": \"points_allowed\",  \n",
    "        \"Unnamed: 7\": \"result\"  \n",
    "    }\n",
    "    \n",
    "    df = df.rename(columns={col: rename_dict[col] for col in rename_dict if col in df.columns})\n",
    "    \n",
    "    df[\"date\"] = pd.to_datetime(df[\"date\"], format=\"%a, %b %d, %Y\", errors=\"coerce\")\n",
    "    df[\"opponent\"] = df[\"opponent\"].map(team_name_to_code)\n",
    "\n",
    "    df[\"home_away\"] = df[\"home_away\"].apply(lambda x: \"Away\" if x == \"@\" else \"Home\")\n",
    "    df = df[df[\"result\"].notna()]\n",
    "    # Add team name\n",
    "    df[\"team\"] = team\n",
    "    df[\"year\"] = year\n",
    "    \n",
    "\n",
    "    df = df[[\"date\", \"team\", \"home_away\", \"opponent\", \"points_scored\", \"points_allowed\", \"result\", \"year\"]]\n",
    "    return df"
   ]
  },
  {
   "cell_type": "code",
   "execution_count": 5,
   "id": "be7d73d3-563a-486d-acaa-2c46e6248af1",
   "metadata": {},
   "outputs": [
    {
     "name": "stdout",
     "output_type": "stream",
     "text": [
      "<bound method NDFrame.head of            date team home_away opponent points_scored points_allowed result  \\\n",
      "0    2022-10-19  ATL      Home      HOU           117            107      W   \n",
      "1    2022-10-21  ATL      Home      ORL           108             98      W   \n",
      "2    2022-10-23  ATL      Home      CHO           109            126      L   \n",
      "3    2022-10-26  ATL      Away      DET           118            113      W   \n",
      "4    2022-10-28  ATL      Away      DET           136            112      W   \n",
      "...         ...  ...       ...      ...           ...            ...    ...   \n",
      "6983 2025-03-09  NOP      Home      MEM           104            107      L   \n",
      "6984 2025-03-11  NOP      Home      LAC           127            120      W   \n",
      "6985 2025-03-13  NOP      Home      ORL            93            113      L   \n",
      "6986 2025-03-15  NOP      Away      SAS           115            119      L   \n",
      "6987 2025-03-17  NOP      Home      DET            81            127      L   \n",
      "\n",
      "      year  \n",
      "0     2023  \n",
      "1     2023  \n",
      "2     2023  \n",
      "3     2023  \n",
      "4     2023  \n",
      "...    ...  \n",
      "6983  2025  \n",
      "6984  2025  \n",
      "6985  2025  \n",
      "6986  2025  \n",
      "6987  2025  \n",
      "\n",
      "[6988 rows x 8 columns]>\n"
     ]
    }
   ],
   "source": [
    "for year in years:\n",
    "    for team in teams:\n",
    "        team_games = scrape_team_games(team, year)\n",
    "        if team_games is not None:\n",
    "            all_games.append(team_games)\n",
    "        time.sleep(1) \n",
    "\n",
    "\n",
    "games_df = pd.concat(all_games, ignore_index=True)\n",
    "games_df.to_csv(\"nba_games_by_team.csv\", index=False)\n",
    "print(games_df.head)\n",
    "        "
   ]
  },
  {
   "cell_type": "code",
   "execution_count": 6,
   "id": "3302eebd-f5d4-4184-8df6-5deb89850eb9",
   "metadata": {},
   "outputs": [],
   "source": [
    "df = pd.read_csv(\"nba_games_by_team.csv\") "
   ]
  },
  {
   "cell_type": "code",
   "execution_count": 7,
   "id": "18679aff-6c74-4b01-a329-96d38076d065",
   "metadata": {},
   "outputs": [],
   "source": [
    "df[\"points_scored\"] = pd.to_numeric(df[\"points_scored\"], errors=\"coerce\")\n",
    "df[\"points_allowed\"] = pd.to_numeric(df[\"points_allowed\"], errors=\"coerce\")"
   ]
  },
  {
   "cell_type": "code",
   "execution_count": 8,
   "id": "65b1ad3d-b81b-4ac9-a111-a14d10fa2350",
   "metadata": {},
   "outputs": [
    {
     "name": "stdout",
     "output_type": "stream",
     "text": [
      "<bound method NDFrame.head of             date team home_away opponent  points_scored  points_allowed  \\\n",
      "0     2022-10-19  ATL      Home      HOU            117             107   \n",
      "1     2022-10-21  ATL      Home      ORL            108              98   \n",
      "2     2022-10-23  ATL      Home      CHO            109             126   \n",
      "3     2022-10-26  ATL      Away      DET            118             113   \n",
      "4     2022-10-28  ATL      Away      DET            136             112   \n",
      "...          ...  ...       ...      ...            ...             ...   \n",
      "6983  2025-03-09  NOP      Home      MEM            104             107   \n",
      "6984  2025-03-11  NOP      Home      LAC            127             120   \n",
      "6985  2025-03-13  NOP      Home      ORL             93             113   \n",
      "6986  2025-03-15  NOP      Away      SAS            115             119   \n",
      "6987  2025-03-17  NOP      Home      DET             81             127   \n",
      "\n",
      "     result  year  \n",
      "0         W  2023  \n",
      "1         W  2023  \n",
      "2         L  2023  \n",
      "3         W  2023  \n",
      "4         W  2023  \n",
      "...     ...   ...  \n",
      "6983      L  2025  \n",
      "6984      W  2025  \n",
      "6985      L  2025  \n",
      "6986      L  2025  \n",
      "6987      L  2025  \n",
      "\n",
      "[6988 rows x 8 columns]>\n"
     ]
    }
   ],
   "source": [
    "print(df.head)\n"
   ]
  },
  {
   "cell_type": "code",
   "execution_count": null,
   "id": "1677e7d2-a760-49b1-9487-a517a229f4a3",
   "metadata": {},
   "outputs": [
    {
     "name": "stdout",
     "output_type": "stream",
     "text": [
      "<bound method NDFrame.head of    team   ORtg   DRtg  NRtg   Pace  Year\n",
      "0   BOS  118.0  111.5   6.5   98.5  2023\n",
      "1   CLE  116.1  110.6   5.5   95.7  2023\n",
      "2   PHI  117.7  113.3   4.4   96.9  2023\n",
      "3   MEM  115.1  111.2   3.9  101.1  2023\n",
      "4   MIL  115.4  111.9   3.5  100.5  2023\n",
      "..  ...    ...    ...   ...    ...   ...\n",
      "85  BRK  109.6  115.8  -6.2   96.0  2025\n",
      "86  UTA  111.6  119.1  -7.5  100.0  2025\n",
      "87  CHO  107.7  115.5  -7.8   97.7  2025\n",
      "88  NOP  110.8  119.5  -8.7   99.2  2025\n",
      "89  WAS  107.0  118.6 -11.6  101.3  2025\n",
      "\n",
      "[90 rows x 6 columns]>\n"
     ]
    }
   ],
   "source": [
    "all_team_stats = pd.DataFrame()\n",
    "\n",
    "for year in years:\n",
    "    url = f\"https://www.basketball-reference.com/leagues/NBA_{year}.html\"\n",
    "    headers = {\"User-Agent\": \"Mozilla/5.0\"}\n",
    "    \n",
    "    response = requests.get(url, headers=headers)\n",
    "    soup = BeautifulSoup(response.content, \"html.parser\")\n",
    "    \n",
    "    table = soup.find(\"table\", {\"id\": \"advanced-team\"})\n",
    "    \n",
    "    if table:\n",
    "        table_str = StringIO(str(table))\n",
    "        team_stats = pd.read_html(table_str)[0]  \n",
    "\n",
    "        team_stats.columns = ['_'.join(col).strip() if isinstance(col, tuple) else col for col in team_stats.columns]\n",
    "        \n",
    "        rename_dict = {\n",
    "            \"Unnamed: 1_level_0_Team\": \"team\",\n",
    "            \"Unnamed: 10_level_0_ORtg\": \"ORtg\",\n",
    "            \"Unnamed: 11_level_0_DRtg\": \"DRtg\",\n",
    "            \"Unnamed: 12_level_0_NRtg\": \"NRtg\",\n",
    "            \"Unnamed: 13_level_0_Pace\": \"Pace\"\n",
    "        }\n",
    "        # Rename relevant columns\n",
    "        team_stats.rename(columns=rename_dict, inplace=True)\n",
    "\n",
    "        team_stats = team_stats[[\"team\", \"ORtg\", \"DRtg\", \"NRtg\", \"Pace\"]]\n",
    "        team_stats[\"team\"] = team_stats[\"team\"].str.replace(\"*\", \"\", regex=False).map(team_name_to_code)\n",
    "        # Add season year\n",
    "        team_stats[\"Year\"] = year\n",
    "\n",
    "\n",
    "        team_stats = team_stats[~team_stats[\"team\"].str.contains(\"League Average\", na=False)]\n",
    "        team_stats = team_stats.dropna(subset=[\"team\"])\n",
    "\n",
    "        all_team_stats = pd.concat([all_team_stats, team_stats], ignore_index=True)\n",
    "\n",
    "\n",
    "all_team_stats.to_csv(\"nba_team_advanced_stats_all_seasons.csv\", index=False)\n",
    "\n",
    "\n",
    "print(all_team_stats.head)\n"
   ]
  },
  {
   "cell_type": "code",
   "execution_count": 11,
   "id": "b06d9ef0-b6f9-43c7-9863-ca1498797226",
   "metadata": {},
   "outputs": [],
   "source": [
    "games = pd.read_csv(\"nba_games_by_team.csv\")\n",
    "team_stats = pd.read_csv(\"nba_team_advanced_stats_all_seasons.csv\")"
   ]
  },
  {
   "cell_type": "code",
   "execution_count": 12,
   "id": "ee926427-d908-494b-ae1b-56407d7007b2",
   "metadata": {},
   "outputs": [
    {
     "name": "stdout",
     "output_type": "stream",
     "text": [
      "Game Data Columns: Index(['date', 'team', 'home_away', 'opponent', 'points_scored',\n",
      "       'points_allowed', 'result', 'year'],\n",
      "      dtype='object')\n",
      "Team Stats Columns: Index(['team', 'ORtg', 'DRtg', 'NRtg', 'Pace', 'Year'], dtype='object')\n"
     ]
    }
   ],
   "source": [
    "print(\"Game Data Columns:\", games.columns)\n",
    "print(\"Team Stats Columns:\", team_stats.columns)"
   ]
  },
  {
   "cell_type": "code",
   "execution_count": 13,
   "id": "9d9d342a-e9c0-4835-b22a-b0a4ce5859ac",
   "metadata": {},
   "outputs": [],
   "source": [
    "games = games.merge(team_stats, left_on=[\"team\", \"year\"], right_on=[\"team\", \"Year\"], suffixes=(\"\", \"_home\"))"
   ]
  },
  {
   "cell_type": "code",
   "execution_count": 14,
   "id": "2c06628f-50aa-46a8-bdb2-a95cedba6ee5",
   "metadata": {},
   "outputs": [],
   "source": [
    "games = games.merge(team_stats, left_on=[\"opponent\", \"year\"], right_on=[\"team\", \"Year\"], suffixes=(\"\", \"_opponent\"))\n",
    "games.drop(columns=[\"team_opponent\"], inplace=True)"
   ]
  },
  {
   "cell_type": "code",
   "execution_count": 15,
   "id": "02181502-2f40-4f53-8c7f-7f5eb159bb97",
   "metadata": {},
   "outputs": [],
   "source": [
    "games.to_csv(\"nba_game_data_with_stats_all_seasons.csv\", index=False)"
   ]
  },
  {
   "cell_type": "code",
   "execution_count": 16,
   "id": "e1085852-ab81-4755-9f7c-9ed2c0787302",
   "metadata": {},
   "outputs": [
    {
     "name": "stdout",
     "output_type": "stream",
     "text": [
      "<bound method NDFrame.head of             date team home_away opponent  points_scored  points_allowed  \\\n",
      "0     2022-10-19  ATL      Home      HOU            117             107   \n",
      "1     2022-11-25  ATL      Away      HOU            122             128   \n",
      "2     2022-12-27  BOS      Home      HOU            126             102   \n",
      "3     2023-03-13  BOS      Away      HOU            109             111   \n",
      "4     2023-03-07  BRK      Away      HOU            118              96   \n",
      "...          ...  ...       ...      ...            ...             ...   \n",
      "6983  2025-02-05  SAS      Away      ATL            126             125   \n",
      "6984  2024-11-17  POR      Home      ATL            114             110   \n",
      "6985  2025-01-07  UTA      Home      ATL            121             124   \n",
      "6986  2024-11-03  NOP      Home      ATL            111             126   \n",
      "6987  2024-12-02  NOP      Away      ATL            112             124   \n",
      "\n",
      "     result  year   ORtg   DRtg  NRtg   Pace  Year  ORtg_opponent  \\\n",
      "0         W  2023  116.6  116.3   0.3  100.7  2023          111.4   \n",
      "1         L  2023  116.6  116.3   0.3  100.7  2023          111.4   \n",
      "2         W  2023  118.0  111.5   6.5   98.5  2023          111.4   \n",
      "3         L  2023  118.0  111.5   6.5   98.5  2023          111.4   \n",
      "4         W  2023  115.0  114.1   0.9   98.3  2023          111.4   \n",
      "...     ...   ...    ...    ...   ...    ...   ...            ...   \n",
      "6983      W  2025  114.5  117.0  -2.5   99.4  2025          113.0   \n",
      "6984      W  2025  111.5  115.1  -3.6   98.7  2025          113.0   \n",
      "6985      L  2025  111.6  119.1  -7.5  100.0  2025          113.0   \n",
      "6986      L  2025  110.8  119.5  -8.7   99.2  2025          113.0   \n",
      "6987      L  2025  110.8  119.5  -8.7   99.2  2025          113.0   \n",
      "\n",
      "      DRtg_opponent  NRtg_opponent  Pace_opponent  Year_opponent  \n",
      "0             119.3           -7.9           99.0           2023  \n",
      "1             119.3           -7.9           99.0           2023  \n",
      "2             119.3           -7.9           99.0           2023  \n",
      "3             119.3           -7.9           99.0           2023  \n",
      "4             119.3           -7.9           99.0           2023  \n",
      "...             ...            ...            ...            ...  \n",
      "6983          115.4           -2.4          103.0           2025  \n",
      "6984          115.4           -2.4          103.0           2025  \n",
      "6985          115.4           -2.4          103.0           2025  \n",
      "6986          115.4           -2.4          103.0           2025  \n",
      "6987          115.4           -2.4          103.0           2025  \n",
      "\n",
      "[6988 rows x 18 columns]>\n"
     ]
    }
   ],
   "source": [
    "print(games.head)"
   ]
  },
  {
   "cell_type": "code",
   "execution_count": 17,
   "id": "4db653a0-3a9d-4ea2-b9f6-7b1a6d257813",
   "metadata": {},
   "outputs": [],
   "source": [
    "games = pd.read_csv(\"nba_game_data_with_stats_all_seasons.csv\")\n",
    "games[\"date\"] = pd.to_datetime(games[\"date\"])\n",
    "games = games.sort_values(by=[\"team\", \"date\"]) "
   ]
  },
  {
   "cell_type": "code",
   "execution_count": 18,
   "id": "df0642e4-48cd-4c22-9210-580314f4cf77",
   "metadata": {},
   "outputs": [],
   "source": [
    "def add_rolling_avg(df, team_col, stat_col, new_col_name, window=5):\n",
    "    df[new_col_name] = df.groupby(team_col)[stat_col].transform(lambda x: x.shift().rolling(window, min_periods=1).mean())"
   ]
  },
  {
   "cell_type": "code",
   "execution_count": 19,
   "id": "4c45a119-a090-4d30-b44c-31d37ded2364",
   "metadata": {},
   "outputs": [],
   "source": [
    "def last_x_games(df, games):\n",
    "    col_name = \"wins_last_\" + str(games)\n",
    "    df[\"win\"] = (df[\"result\"] == \"W\").astype(int)\n",
    "    df = df.sort_values(by=[\"team\", \"date\"])\n",
    "    df[col_name] = df.groupby(\"team\")[\"win\"].transform(lambda x: x.shift().rolling(games, min_periods=1).sum())\n",
    "    df[col_name] = df[col_name].fillna(0).astype(int)\n",
    "    return df"
   ]
  },
  {
   "cell_type": "code",
   "execution_count": 20,
   "id": "9f8ec3f5-93d4-4495-b50e-7f5d599ae246",
   "metadata": {},
   "outputs": [],
   "source": [
    "add_rolling_avg(games, \"team\", \"points_scored\", \"points_scored_rolling5\")\n",
    "add_rolling_avg(games, \"team\", \"points_allowed\", \"points_allowed_rolling5\")\n",
    "games = last_x_games(games, 5)\n",
    "games = last_x_games(games, 10)"
   ]
  },
  {
   "cell_type": "code",
   "execution_count": 21,
   "id": "e0d33074-a88a-4e70-b6ab-196552f871fd",
   "metadata": {},
   "outputs": [
    {
     "name": "stdout",
     "output_type": "stream",
     "text": [
      "<bound method NDFrame.head of            date team home_away opponent  points_scored  points_allowed result  \\\n",
      "0    2022-10-19  ATL      Home      HOU            117             107      W   \n",
      "82   2022-10-21  ATL      Home      ORL            108              98      W   \n",
      "164  2022-10-23  ATL      Home      CHO            109             126      L   \n",
      "246  2022-10-26  ATL      Away      DET            118             113      W   \n",
      "247  2022-10-28  ATL      Away      DET            136             112      W   \n",
      "...         ...  ...       ...      ...            ...             ...    ...   \n",
      "6415 2025-03-10  WAS      Away      TOR            104             119      L   \n",
      "5529 2025-03-11  WAS      Away      DET            103             123      L   \n",
      "5530 2025-03-13  WAS      Away      DET            129             125      W   \n",
      "6055 2025-03-15  WAS      Away      DEN            126             123      W   \n",
      "5645 2025-03-17  WAS      Away      POR             97             112      L   \n",
      "\n",
      "      year   ORtg   DRtg  ...  ORtg_opponent  DRtg_opponent  NRtg_opponent  \\\n",
      "0     2023  116.6  116.3  ...          111.4          119.3           -7.9   \n",
      "82    2023  116.6  116.3  ...          111.6          114.2           -2.6   \n",
      "164   2023  116.6  116.3  ...          109.2          115.3           -6.1   \n",
      "246   2023  116.6  116.3  ...          110.7          118.9           -8.2   \n",
      "247   2023  116.6  116.3  ...          110.7          118.9           -8.2   \n",
      "...    ...    ...    ...  ...            ...            ...            ...   \n",
      "6415  2025  107.0  118.6  ...          110.6          115.8           -5.2   \n",
      "5529  2025  107.0  118.6  ...          114.2          112.0            2.2   \n",
      "5530  2025  107.0  118.6  ...          114.2          112.0            2.2   \n",
      "6055  2025  107.0  118.6  ...          120.1          115.7            4.4   \n",
      "5645  2025  107.0  118.6  ...          111.5          115.1           -3.6   \n",
      "\n",
      "      Pace_opponent  Year_opponent  points_scored_rolling5  \\\n",
      "0              99.0           2023                     NaN   \n",
      "82             99.3           2023              117.000000   \n",
      "164           100.8           2023              112.500000   \n",
      "246            99.0           2023              111.333333   \n",
      "247            99.0           2023              113.000000   \n",
      "...             ...            ...                     ...   \n",
      "6415           99.3           2025              113.400000   \n",
      "5529          100.1           2025              110.000000   \n",
      "5530          100.1           2025              108.000000   \n",
      "6055          100.1           2025              115.800000   \n",
      "5645           98.7           2025              116.000000   \n",
      "\n",
      "      points_allowed_rolling5  win  wins_last_5  wins_last_10  \n",
      "0                         NaN    1            0             0  \n",
      "82                 107.000000    1            1             1  \n",
      "164                102.500000    0            2             2  \n",
      "246                110.333333    1            2             2  \n",
      "247                111.000000    1            3             3  \n",
      "...                       ...  ...          ...           ...  \n",
      "6415               114.800000    0            3             4  \n",
      "5529               112.800000    0            3             4  \n",
      "5530               117.400000    1            2             4  \n",
      "6055               121.200000    1            3             5  \n",
      "5645               121.400000    0            3             6  \n",
      "\n",
      "[6988 rows x 23 columns]>\n"
     ]
    }
   ],
   "source": [
    "print(games.head)"
   ]
  },
  {
   "cell_type": "code",
   "execution_count": 22,
   "id": "9b6bd140-b0a8-4e99-bad8-7d71b3935385",
   "metadata": {},
   "outputs": [],
   "source": [
    "games.to_csv(\"nba_game_data_with_features.csv\", index=False)"
   ]
  },
  {
   "cell_type": "code",
   "execution_count": null,
   "id": "0ffe8dd8-23a7-42e9-ba1d-3376cf871d9e",
   "metadata": {},
   "outputs": [],
   "source": [
    "def calculate_streaks(df):\n",
    "    df = df.sort_values(by=[\"team\", \"date\"]) \n",
    "\n",
    "    win_streaks = []\n",
    "    loss_streaks = []\n",
    "\n",
    "    for team, group in df.groupby(\"team\"):\n",
    "        win_streak = 0\n",
    "        loss_streak = 0\n",
    "\n",
    "        team_win_streaks = [0]  # First game always has a 0 streak\n",
    "        team_loss_streaks = [0] \n",
    "\n",
    "        for result in group[\"win\"].iloc[:-1]:  \n",
    "            if result == 1:\n",
    "                win_streak += 1\n",
    "                loss_streak = 0 \n",
    "            else:\n",
    "                loss_streak += 1\n",
    "                win_streak = 0  \n",
    "\n",
    "            team_win_streaks.append(win_streak)\n",
    "            team_loss_streaks.append(loss_streak)\n",
    "\n",
    "        win_streaks.extend(team_win_streaks)\n",
    "        loss_streaks.extend(team_loss_streaks)\n",
    "\n",
    "    df[\"win_streak\"] = win_streaks\n",
    "    df[\"loss_streak\"] = loss_streaks\n",
    "\n",
    "    return df\n"
   ]
  },
  {
   "cell_type": "code",
   "execution_count": 24,
   "id": "0a37954f-439c-4f44-a607-256f862d8010",
   "metadata": {},
   "outputs": [],
   "source": [
    "games = pd.read_csv(\"nba_game_data_with_features.csv\")\n",
    "games = calculate_streaks(games)"
   ]
  },
  {
   "cell_type": "code",
   "execution_count": 25,
   "id": "d8cfdc96-e0b8-45e3-97f4-e0b03ff4d6bc",
   "metadata": {},
   "outputs": [],
   "source": [
    "games.to_csv(\"nba_game_data_with_features_win_streak.csv\", index=False)"
   ]
  },
  {
   "cell_type": "code",
   "execution_count": 26,
   "id": "372751e9-6485-4e8b-ae37-e49d79572820",
   "metadata": {},
   "outputs": [
    {
     "name": "stdout",
     "output_type": "stream",
     "text": [
      "         date team opponent  win_streak  win  loss_streak\n",
      "0  2022-10-19  ATL      HOU           0    1            0\n",
      "1  2022-10-21  ATL      ORL           1    1            0\n",
      "2  2022-10-23  ATL      CHO           2    0            0\n",
      "3  2022-10-26  ATL      DET           0    1            1\n",
      "4  2022-10-28  ATL      DET           1    1            0\n"
     ]
    }
   ],
   "source": [
    "print(games[[\"date\", \"team\", \"opponent\", \"win_streak\", \"win\", \"loss_streak\"]].head())"
   ]
  },
  {
   "cell_type": "code",
   "execution_count": 27,
   "id": "8bf96b8c-2448-45f9-acba-ef7d5af2fda7",
   "metadata": {},
   "outputs": [
    {
     "name": "stdout",
     "output_type": "stream",
     "text": [
      "Index(['date', 'team', 'home_away', 'opponent', 'points_scored',\n",
      "       'points_allowed', 'result', 'year', 'ORtg', 'DRtg', 'NRtg', 'Pace',\n",
      "       'Year', 'ORtg_opponent', 'DRtg_opponent', 'NRtg_opponent',\n",
      "       'Pace_opponent', 'Year_opponent', 'points_scored_rolling5',\n",
      "       'points_allowed_rolling5', 'win', 'wins_last_5', 'wins_last_10',\n",
      "       'win_streak', 'loss_streak'],\n",
      "      dtype='object')\n"
     ]
    }
   ],
   "source": [
    "print(games.columns)"
   ]
  },
  {
   "cell_type": "code",
   "execution_count": 28,
   "id": "e8552b3f-4957-408b-8f24-9a3f8c0de5f2",
   "metadata": {},
   "outputs": [],
   "source": [
    "games = games = pd.read_csv(\"nba_game_data_with_features_win_streak.csv\")"
   ]
  },
  {
   "cell_type": "code",
   "execution_count": 29,
   "id": "9ed45e21-7359-4e32-b51e-4cb362e9047d",
   "metadata": {},
   "outputs": [],
   "source": [
    "games[\"date\"] = pd.to_datetime(games[\"date\"], errors=\"coerce\")\n",
    "games = games.sort_values(by=[\"team\", \"date\"])\n",
    "games[\"rest_days\"] = games.groupby(\"team\")[\"date\"].diff().dt.days.fillna(3).astype(int)"
   ]
  },
  {
   "cell_type": "code",
   "execution_count": 30,
   "id": "cc1e92f1-8ce2-4ab0-8e53-de1011a98dd4",
   "metadata": {},
   "outputs": [
    {
     "name": "stdout",
     "output_type": "stream",
     "text": [
      "        date team opponent  rest_days\n",
      "0 2022-10-19  ATL      HOU          3\n",
      "1 2022-10-21  ATL      ORL          2\n",
      "2 2022-10-23  ATL      CHO          2\n",
      "3 2022-10-26  ATL      DET          3\n",
      "4 2022-10-28  ATL      DET          2\n"
     ]
    }
   ],
   "source": [
    "print(games[[\"date\", \"team\", \"opponent\", \"rest_days\"]].head())"
   ]
  },
  {
   "cell_type": "code",
   "execution_count": null,
   "id": "a07e3e68-7f35-4308-84d6-f01495912460",
   "metadata": {},
   "outputs": [],
   "source": [
    "\n",
    "games[\"home_win\"] = ((games[\"home_away\"] == \"Home\") & (games[\"result\"] == \"W\")).astype(int)\n",
    "games[\"away_win\"] = ((games[\"home_away\"] == \"Away\") & (games[\"result\"] == \"W\")).astype(int)\n",
    "\n",
    "\n",
    "games[\"home_win_pct\"] = games.groupby(\"team\")[\"home_win\"].transform(lambda x: x.shift().rolling(10, min_periods=1).mean())\n",
    "games[\"away_win_pct\"] = games.groupby(\"team\")[\"away_win\"].transform(lambda x: x.shift().rolling(10, min_periods=1).mean())"
   ]
  },
  {
   "cell_type": "code",
   "execution_count": null,
   "id": "648faf6a-e846-4b57-8cc1-a8a5ce14aa8d",
   "metadata": {},
   "outputs": [],
   "source": [
    "\n",
    "games[\"head_to_head_wins\"] = games.groupby([\"team\", \"opponent\"])[\"win\"].transform(lambda x: x.shift().rolling(5, min_periods=1).sum())"
   ]
  },
  {
   "cell_type": "code",
   "execution_count": null,
   "id": "03255755-1b17-442b-80e8-5b0b105be3a6",
   "metadata": {},
   "outputs": [],
   "source": [
    "\n",
    "games[\"season_win_pct\"] = games.groupby(\"team\")[\"win\"].transform(lambda x: x.expanding().mean())\n"
   ]
  },
  {
   "cell_type": "code",
   "execution_count": null,
   "id": "e576e996-9b9b-45a1-8bac-e5920bc41c0f",
   "metadata": {},
   "outputs": [],
   "source": [
    "\n",
    "games[\"points_scored\"] = pd.to_numeric(games[\"points_scored\"], errors=\"coerce\")\n",
    "games[\"points_allowed\"] = pd.to_numeric(games[\"points_allowed\"], errors=\"coerce\")\n",
    "\n",
    "\n",
    "games[\"point_differential\"] = games[\"points_scored\"] - games[\"points_allowed\"]\n",
    "\n",
    "\n",
    "games[\"rolling_point_differential\"] = games.groupby(\"team\")[\"point_differential\"].transform(lambda x: x.shift().rolling(5, min_periods=1).mean())\n"
   ]
  },
  {
   "cell_type": "code",
   "execution_count": 35,
   "id": "81303983-54b4-4ea2-b709-35369a5c666c",
   "metadata": {},
   "outputs": [
    {
     "name": "stdout",
     "output_type": "stream",
     "text": [
      "        date team opponent  rest_days  home_win_pct  away_win_pct  \\\n",
      "0 2022-10-19  ATL      HOU          3           NaN           NaN   \n",
      "1 2022-10-21  ATL      ORL          2      1.000000          0.00   \n",
      "2 2022-10-23  ATL      CHO          2      1.000000          0.00   \n",
      "3 2022-10-26  ATL      DET          3      0.666667          0.00   \n",
      "4 2022-10-28  ATL      DET          2      0.500000          0.25   \n",
      "\n",
      "   head_to_head_wins  season_win_pct  \n",
      "0                NaN        1.000000  \n",
      "1                NaN        1.000000  \n",
      "2                NaN        0.666667  \n",
      "3                NaN        0.750000  \n",
      "4                1.0        0.800000  \n"
     ]
    }
   ],
   "source": [
    "print(games[[\"date\", \"team\", \"opponent\", \"rest_days\", \"home_win_pct\", \"away_win_pct\", \"head_to_head_wins\", \"season_win_pct\"]].head())"
   ]
  },
  {
   "cell_type": "code",
   "execution_count": null,
   "id": "8eaadd77-8929-4b53-90bf-8752c93af799",
   "metadata": {},
   "outputs": [],
   "source": [
    "\n",
    "games[\"head_to_head_wins\"] = games[\"head_to_head_wins\"].fillna(0).astype(int)\n",
    "games[\"points_scored_rolling5\"] = games[\"points_scored_rolling5\"].fillna(0).astype(int)\n",
    "games[\"points_allowed_rolling5\"] = games[\"points_allowed_rolling5\"].fillna(0).astype(int)\n",
    "games[\"rolling_point_differential\"] = games[\"rolling_point_differential\"].fillna(0).astype(int)\n",
    "\n",
    "\n",
    "games[\"home_win_pct\"] = games[\"home_win_pct\"].fillna(0.5)\n",
    "games[\"away_win_pct\"] = games[\"away_win_pct\"].fillna(0.5)\n",
    "\n",
    "\n",
    "games[\"season_win_pct\"] = games[\"season_win_pct\"].fillna(0)"
   ]
  },
  {
   "cell_type": "code",
   "execution_count": null,
   "id": "9f388dfc-92a0-4570-b035-b6cc7c1bb420",
   "metadata": {},
   "outputs": [
    {
     "name": "stdout",
     "output_type": "stream",
     "text": [
      "date                          0\n",
      "team                          0\n",
      "home_away                     0\n",
      "opponent                      0\n",
      "points_scored                 0\n",
      "points_allowed                0\n",
      "result                        0\n",
      "year                          0\n",
      "ORtg                          0\n",
      "DRtg                          0\n",
      "NRtg                          0\n",
      "Pace                          0\n",
      "Year                          0\n",
      "ORtg_opponent                 0\n",
      "DRtg_opponent                 0\n",
      "NRtg_opponent                 0\n",
      "Pace_opponent                 0\n",
      "Year_opponent                 0\n",
      "points_scored_rolling5        0\n",
      "points_allowed_rolling5       0\n",
      "win                           0\n",
      "wins_last_5                   0\n",
      "wins_last_10                  0\n",
      "win_streak                    0\n",
      "loss_streak                   0\n",
      "rest_days                     0\n",
      "home_win                      0\n",
      "away_win                      0\n",
      "home_win_pct                  0\n",
      "away_win_pct                  0\n",
      "head_to_head_wins             0\n",
      "season_win_pct                0\n",
      "point_differential            0\n",
      "rolling_point_differential    0\n",
      "dtype: int64\n",
      "date                          datetime64[ns]\n",
      "team                                  object\n",
      "home_away                             object\n",
      "opponent                              object\n",
      "points_scored                          int64\n",
      "points_allowed                         int64\n",
      "result                                object\n",
      "year                                   int64\n",
      "ORtg                                 float64\n",
      "DRtg                                 float64\n",
      "NRtg                                 float64\n",
      "Pace                                 float64\n",
      "Year                                   int64\n",
      "ORtg_opponent                        float64\n",
      "DRtg_opponent                        float64\n",
      "NRtg_opponent                        float64\n",
      "Pace_opponent                        float64\n",
      "Year_opponent                          int64\n",
      "points_scored_rolling5                 int32\n",
      "points_allowed_rolling5                int32\n",
      "win                                    int64\n",
      "wins_last_5                            int64\n",
      "wins_last_10                           int64\n",
      "win_streak                             int64\n",
      "loss_streak                            int64\n",
      "rest_days                              int32\n",
      "home_win                               int32\n",
      "away_win                               int32\n",
      "home_win_pct                         float64\n",
      "away_win_pct                         float64\n",
      "head_to_head_wins                      int32\n",
      "season_win_pct                       float64\n",
      "point_differential                     int64\n",
      "rolling_point_differential             int32\n",
      "dtype: object\n"
     ]
    }
   ],
   "source": [
    "print(games.isnull().sum())\n",
    "print(games.dtypes)"
   ]
  },
  {
   "cell_type": "code",
   "execution_count": 38,
   "id": "ffed9735-65f9-4012-98de-c1a9ed58051b",
   "metadata": {},
   "outputs": [],
   "source": [
    "games.to_csv(\"nba_game_data_with_all_features.csv\", index=False)"
   ]
  },
  {
   "cell_type": "code",
   "execution_count": 39,
   "id": "1d11195b-f067-4efa-b9b9-48e24ec2d783",
   "metadata": {},
   "outputs": [],
   "source": [
    "games = games.sort_values(by=[\"team\", \"date\"])"
   ]
  },
  {
   "cell_type": "code",
   "execution_count": null,
   "id": "1bbc31d2-4b49-4a29-ac55-ca9bf974483c",
   "metadata": {},
   "outputs": [],
   "source": [
    "# Function for weighted rolling average\n",
    "def weighted_rolling_avg(series, window):\n",
    "    weights = np.arange(1, window + 1) \n",
    "    return series.rolling(window).apply(lambda x: np.dot(x, weights) / weights.sum(), raw=True)\n",
    "\n",
    "# Apply to key features\n",
    "games[\"weighted_points_scored\"] = (\n",
    "    games.groupby(\"team\")[\"points_scored\"]\n",
    "    .apply(lambda x: weighted_rolling_avg(x.shift(1), 5))  \n",
    "    .reset_index(level=0, drop=True)  \n",
    ")\n",
    "\n",
    "games[\"weighted_points_allowed\"] = (\n",
    "    games.groupby(\"team\")[\"points_allowed\"]\n",
    "    .apply(lambda x: weighted_rolling_avg(x.shift(1), 5))  \n",
    "    .reset_index(level=0, drop=True)  \n",
    ")"
   ]
  },
  {
   "cell_type": "code",
   "execution_count": null,
   "id": "f0bcee51-8f57-4722-8953-695177266a8d",
   "metadata": {},
   "outputs": [],
   "source": [
    "def games_played_last_x_days(df, team_col, date_col, days):\n",
    "    df = df.sort_values(by=[team_col, date_col])\n",
    "    \n",
    "\n",
    "    games_played = (\n",
    "        df.groupby(team_col)[date_col]\n",
    "        .apply(lambda x: x.diff().dt.days.rolling(days, min_periods=1).sum())\n",
    "        .reset_index(level=0, drop=True)  \n",
    "    )\n",
    "    \n",
    "    return games_played.fillna(0).astype(int)\n",
    "\n",
    "\n",
    "games[\"games_last_3\"] = games_played_last_x_days(games, \"team\", \"date\", 3)\n",
    "games[\"games_last_5\"] = games_played_last_x_days(games, \"team\", \"date\", 5)\n",
    "games[\"games_last_7\"] = games_played_last_x_days(games, \"team\", \"date\", 7)\n"
   ]
  },
  {
   "cell_type": "code",
   "execution_count": null,
   "id": "136fd09c-7cf7-474c-9168-ae245b16524c",
   "metadata": {},
   "outputs": [],
   "source": [
    "home_rolling = (\n",
    "    games[games[\"home_away\"] == \"Home\"]\n",
    "    .groupby(\"team\")[\"points_scored\"]\n",
    "    .apply(lambda x: x.shift().rolling(5, min_periods=1).mean())\n",
    "    .reset_index(level=0, drop=True)\n",
    ")\n",
    "home_rolling_allowed = (\n",
    "    games[games[\"home_away\"] == \"Home\"]\n",
    "    .groupby(\"team\")[\"points_allowed\"]\n",
    "    .apply(lambda x: x.shift().rolling(5, min_periods=1).mean())\n",
    "    .reset_index(level=0, drop=True)\n",
    ")\n",
    "games[\"home_points_allowed_rolling5\"] = home_rolling_allowed.reindex(games.index)\n",
    "games[\"home_points_scored_rolling5\"] = home_rolling.reindex(games.index)"
   ]
  },
  {
   "cell_type": "code",
   "execution_count": 45,
   "id": "7605491e-631c-47a5-a183-d7b7e03a43c1",
   "metadata": {},
   "outputs": [],
   "source": [
    "away_rolling = (\n",
    "    games[games[\"home_away\"] == \"Away\"]\n",
    "    .groupby(\"team\")[\"points_scored\"]\n",
    "    .apply(lambda x: x.shift().rolling(5, min_periods=1).mean())\n",
    "    .reset_index(level=0, drop=True)\n",
    ")\n",
    "games[\"away_points_scored_rolling5\"] = away_rolling.reindex(games.index)\n",
    "\n",
    "away_rolling_allowed = (\n",
    "    games[games[\"home_away\"] == \"Away\"]\n",
    "    .groupby(\"team\")[\"points_allowed\"]\n",
    "    .apply(lambda x: x.shift().rolling(5, min_periods=1).mean())\n",
    "    .reset_index(level=0, drop=True)\n",
    ")\n",
    "games[\"away_points_allowed_rolling5\"] = away_rolling_allowed.reindex(games.index)\n"
   ]
  },
  {
   "cell_type": "code",
   "execution_count": 46,
   "id": "38db7c49-218d-461b-b8e5-de1febb127e5",
   "metadata": {},
   "outputs": [],
   "source": [
    "games.to_csv(\"nba_game_data_with_all_features.csv\", index=False)"
   ]
  },
  {
   "cell_type": "code",
   "execution_count": 52,
   "id": "d1d7b09f-3f0e-48f4-a445-4bf5c0e66339",
   "metadata": {},
   "outputs": [
    {
     "name": "stdout",
     "output_type": "stream",
     "text": [
      "<bound method NDFrame.head of            date team home_away opponent  points_scored  points_allowed result  \\\n",
      "0    2022-10-19  ATL      Home      HOU            117             107      W   \n",
      "1    2022-10-21  ATL      Home      ORL            108              98      W   \n",
      "2    2022-10-23  ATL      Home      CHO            109             126      L   \n",
      "3    2022-10-26  ATL      Away      DET            118             113      W   \n",
      "4    2022-10-28  ATL      Away      DET            136             112      W   \n",
      "...         ...  ...       ...      ...            ...             ...    ...   \n",
      "6983 2025-03-10  WAS      Away      TOR            104             119      L   \n",
      "6984 2025-03-11  WAS      Away      DET            103             123      L   \n",
      "6985 2025-03-13  WAS      Away      DET            129             125      W   \n",
      "6986 2025-03-15  WAS      Away      DEN            126             123      W   \n",
      "6987 2025-03-17  WAS      Away      POR             97             112      L   \n",
      "\n",
      "      year   ORtg   DRtg  ...  rolling_point_differential  \\\n",
      "0     2023  116.6  116.3  ...                           0   \n",
      "1     2023  116.6  116.3  ...                          10   \n",
      "2     2023  116.6  116.3  ...                          10   \n",
      "3     2023  116.6  116.3  ...                           1   \n",
      "4     2023  116.6  116.3  ...                           2   \n",
      "...    ...    ...    ...  ...                         ...   \n",
      "6983  2025  107.0  118.6  ...                          -1   \n",
      "6984  2025  107.0  118.6  ...                          -2   \n",
      "6985  2025  107.0  118.6  ...                          -9   \n",
      "6986  2025  107.0  118.6  ...                          -5   \n",
      "6987  2025  107.0  118.6  ...                          -5   \n",
      "\n",
      "      weighted_points_scored  weighted_points_allowed  games_last_3  \\\n",
      "0                   0.000000                 0.000000             0   \n",
      "1                   0.000000                 0.000000             2   \n",
      "2                   0.000000                 0.000000             4   \n",
      "3                   0.000000                 0.000000             7   \n",
      "4                   0.000000                 0.000000             7   \n",
      "...                      ...                      ...           ...   \n",
      "6983              113.800000               114.666667             7   \n",
      "6984              110.666667               116.066667             6   \n",
      "6985              108.333333               119.466667             5   \n",
      "6986              115.333333               122.000000             5   \n",
      "6987              118.733333               122.600000             6   \n",
      "\n",
      "      games_last_5  games_last_7  home_points_allowed_rolling5  \\\n",
      "0                0             0                           NaN   \n",
      "1                2             2                         107.0   \n",
      "2                4             4                         102.5   \n",
      "3                7             7                           NaN   \n",
      "4                9             9                           NaN   \n",
      "...            ...           ...                           ...   \n",
      "6983            12            15                           NaN   \n",
      "6984            10            15                           NaN   \n",
      "6985            10            15                           NaN   \n",
      "6986            10            14                           NaN   \n",
      "6987             9            14                           NaN   \n",
      "\n",
      "      away_points_scored_rolling5  away_points_allowed_rolling5  \\\n",
      "0                             0.0                           0.0   \n",
      "1                             0.0                           0.0   \n",
      "2                             0.0                           0.0   \n",
      "3                             0.0                           0.0   \n",
      "4                           118.0                         113.0   \n",
      "...                           ...                           ...   \n",
      "6983                        106.0                         107.0   \n",
      "6984                        103.0                         110.4   \n",
      "6985                        105.6                         113.0   \n",
      "6986                        108.8                         118.0   \n",
      "6987                        116.0                         121.4   \n",
      "\n",
      "      home_points_scored_rolling5  \n",
      "0                             NaN  \n",
      "1                           117.0  \n",
      "2                           112.5  \n",
      "3                             NaN  \n",
      "4                             NaN  \n",
      "...                           ...  \n",
      "6983                          NaN  \n",
      "6984                          NaN  \n",
      "6985                          NaN  \n",
      "6986                          NaN  \n",
      "6987                          NaN  \n",
      "\n",
      "[6988 rows x 43 columns]>\n"
     ]
    }
   ],
   "source": [
    "print(games.head)"
   ]
  },
  {
   "cell_type": "code",
   "execution_count": null,
   "id": "c3ce6677-b80d-46c2-9484-1316a4c21c45",
   "metadata": {},
   "outputs": [],
   "source": [
    "games.fillna(0, inplace=True) "
   ]
  },
  {
   "cell_type": "code",
   "execution_count": 49,
   "id": "1eb1f2cc-f5ac-4568-92a5-711903d8a8b5",
   "metadata": {},
   "outputs": [
    {
     "data": {
      "text/plain": [
       "142.4"
      ]
     },
     "execution_count": 49,
     "metadata": {},
     "output_type": "execute_result"
    }
   ],
   "source": [
    "max(games[\"away_points_allowed_rolling5\"])"
   ]
  },
  {
   "cell_type": "code",
   "execution_count": 53,
   "id": "a9db6d4f-d8f7-4e6b-a658-836e89947ff4",
   "metadata": {},
   "outputs": [],
   "source": [
    "games[\"home_points_scored_rolling5\"].fillna(\n",
    "    games.groupby(\"team\")[\"points_scored\"].transform(\"mean\"), inplace=True\n",
    ")\n",
    "games[\"home_points_allowed_rolling5\"].fillna(\n",
    "    games.groupby(\"team\")[\"points_allowed\"].transform(\"mean\"), inplace=True\n",
    ")\n",
    "games[\"away_points_scored_rolling5\"].fillna(\n",
    "    games.groupby(\"team\")[\"points_scored\"].transform(\"mean\"), inplace=True\n",
    ")\n",
    "games[\"away_points_allowed_rolling5\"].fillna(\n",
    "    games.groupby(\"team\")[\"points_allowed\"].transform(\"mean\"), inplace=True\n",
    ")\n"
   ]
  },
  {
   "cell_type": "code",
   "execution_count": null,
   "id": "bd6c8789-feb1-4d7e-8ac9-28df322c3df2",
   "metadata": {},
   "outputs": [],
   "source": [
    "games.to_csv(\"nba_game_data_with_all_features_final.csv\", index=False)"
   ]
  },
  {
   "cell_type": "code",
   "execution_count": null,
   "id": "f4d5a206-bafa-4fd3-9d22-fd474b6da6c7",
   "metadata": {},
   "outputs": [],
   "source": []
  },
  {
   "cell_type": "code",
   "execution_count": null,
   "id": "9b4dc4c3-8a6d-45d3-82cb-7c3f735b3e06",
   "metadata": {},
   "outputs": [],
   "source": []
  },
  {
   "cell_type": "code",
   "execution_count": null,
   "id": "ba284cc9-a439-492a-a3cd-501fea84355e",
   "metadata": {},
   "outputs": [],
   "source": []
  }
 ],
 "metadata": {
  "kernelspec": {
   "display_name": "Python 3 (ipykernel)",
   "language": "python",
   "name": "python3"
  },
  "language_info": {
   "codemirror_mode": {
    "name": "ipython",
    "version": 3
   },
   "file_extension": ".py",
   "mimetype": "text/x-python",
   "name": "python",
   "nbconvert_exporter": "python",
   "pygments_lexer": "ipython3",
   "version": "3.11.7"
  }
 },
 "nbformat": 4,
 "nbformat_minor": 5
}
